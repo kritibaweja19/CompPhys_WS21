{
 "cells": [
  {
   "cell_type": "markdown",
   "metadata": {},
   "source": [
    "## Computational Homework 7\n",
    "by Aleena and Kriti"
   ]
  },
  {
   "cell_type": "code",
   "execution_count": 1,
   "metadata": {},
   "outputs": [],
   "source": [
    "import numpy as np \n",
    "import matplotlib.pyplot as plt\n",
    "import math as m\n",
    "from numpy.polynomial.legendre import leggauss\n",
    "from scipy.special import legendre"
   ]
  },
  {
   "cell_type": "code",
   "execution_count": 2,
   "metadata": {},
   "outputs": [],
   "source": [
    "class OBEpot:\n",
    "    \"\"\"Provides a method for the partial wave representation of the OBE potential. \n",
    "    \n",
    "       The matrix elements are obtained by numerical intergration.\n",
    "       The mass of the exchanged boson, the strength of the \n",
    "       interaction and the couter term is given on initialization. \n",
    "       The interaction is regularized using a cutoff that is also \n",
    "       given on init.\n",
    "    \"\"\"\n",
    "    \n",
    "    # this are common parameters for all instances \n",
    "    hbarc=197.327\n",
    "    \n",
    "    # init interaction\n",
    "    def __init__(self, cutoff=800.000, C0=2.470795*10**(-2), nx=12,mpi=138.0,A=-0.1544435):\n",
    "        \"\"\"Defines the one boson exchange for a given regulator, coupling strength and short distance parameter\n",
    "        \n",
    "        Parameters:\n",
    "        cutoff -- regulator in MeV\n",
    "        C0 -- strength of the short distance counter term (in s-wave) \n",
    "        A -- strength of OBE\n",
    "        nx -- number of angular grid points for numerical integration\n",
    "        mpi -- mass of exchange boson in MeV\"\"\"\n",
    "        \n",
    "        self.mpi = mpi/self.hbarc\n",
    "        self.cutoff = cutoff/self.hbarc\n",
    "        self.C0=C0\n",
    "        self.A=A\n",
    "        self.nx=nx\n",
    "        \n",
    "        self.xp=np.empty((self.nx),dtype=np.double)\n",
    "        self.xw=np.empty((self.nx),dtype=np.double)\n",
    "        self.xp,self.xw=leggauss(self.nx)\n",
    "    \n",
    "    \n",
    "    \n",
    "    # function defines the x integral \n",
    "    def _g(self,pp,p,k):\n",
    "        \"\"\"Calculates g function of the partial wave decomposition of OBE. \n",
    "        \n",
    "           pp -- outgoing momentum \n",
    "           p -- incoming momentum\n",
    "           k -- angular momentum\"\"\"\n",
    "        \n",
    "        # define prefact \n",
    "        # get the corresponding legendre polynomial \n",
    "        Pk = legendre(k)\n",
    "        # define momentum transfer dependent on angles \n",
    "        qval=np.sqrt(p**2+pp**2-2*p*pp*self.xp)\n",
    "        \n",
    "        # build integral of regularized OBE \n",
    "        return float(np.sum(Pk(self.xp)/((qval**2+self.mpi**2))*self.xw*np.exp(-(qval**2+self.mpi**2)/self.cutoff**2)))\n",
    "        \n",
    "    # determines complete, regularized interaction     \n",
    "    def v(self,pp,p,l):\n",
    "        \"\"\"Potential matrix element in fm**2\n",
    "        \n",
    "           pp -- outgoing momentum in fm**-1\n",
    "           p -- incoming momentum in fm**-1\n",
    "           l -- angular momentum\"\"\" \n",
    "        \n",
    "        # first overall prefact of 1pi exchange part  (cancel 2pi factors!)\n",
    "        prefact=self.A\n",
    "        \n",
    "        mat=prefact*self._g(pp,p,l)\n",
    "\n",
    "        if (l==0):   # add s-wave counter term \n",
    "            mat+=self.C0*np.exp(-(pp**2+p**2)/self.cutoff**2)  # 4pi is take into account by spherical harmonics for l=0\n",
    "                    \n",
    "        return mat"
   ]
  },
  {
   "cell_type": "code",
   "execution_count": 3,
   "metadata": {},
   "outputs": [],
   "source": [
    "pot = OBEpot()"
   ]
  },
  {
   "cell_type": "code",
   "execution_count": 4,
   "metadata": {},
   "outputs": [],
   "source": [
    "def kronekar (i,k):\n",
    "    if (i==k):\n",
    "        return 1\n",
    "    else:\n",
    "        return 0\n",
    "    \n",
    "def trns(np1,np2,pa,pb,pc):\n",
    "      \"\"\"Auxilliary method that provides transformed Gauss-Legendre grid points and integration weights.\n",
    "      \n",
    "         This is using a hyperbolic trafo shown in the lecture. \n",
    "         Parameter: \n",
    "         np1 --  grid points in ]0,pb[\n",
    "         np2 --  grid points are distributed in ]pb,pc[ using a linear trafo\n",
    "         \n",
    "         pa  -- half of np1 points are in interval [0,pa]\n",
    "         pb  -- interval boundary as defined above \n",
    "         pc  -- upper integration boundary \"\"\" \n",
    "    \n",
    "      x1grid,x1weight=leggauss(np1)\n",
    "      x2grid,x2weight=leggauss(np2)\n",
    "\n",
    "      # trafo (1.+X) / (1./P1-(1./P1-2./P2)*X) for first interval \n",
    "      p1grid=(1.+x1grid) / (1./pa-(1./pa-2./pb)*x1grid)\n",
    "      p1weight=(2.0/pa-2.0/pb)*x1weight / (1./pa-(1./pa-2./pb)*x1grid)**2\n",
    "\n",
    "      # linear trafo \n",
    "      p2grid=(pc+pb)/2.0 + (pc-pb)/2.0*x2grid\n",
    "      p2weight=(pc-pb)/2.0*x2weight\n",
    "   \n",
    "      pgrid=np.empty((N+1),dtype=np.double)\n",
    "      pweight=np.empty((N+1),dtype=np.double)\n",
    "    \n",
    "      pgrid = np.concatenate((p1grid, p2grid), axis=None)\n",
    "      pweight = np.concatenate((p1weight, p2weight), axis=None)\n",
    "   \n",
    "      return pgrid,pweight"
   ]
  },
  {
   "cell_type": "code",
   "execution_count": 5,
   "metadata": {},
   "outputs": [],
   "source": [
    "def matA (i,k,V_ik,q,p,w,p_max,mu=938.92):\n",
    "    A=0\n",
    "    if (k!=N):\n",
    "        return kronekar(i,k)-2*mu*V_ik*(p[k]**2)*w[k]/(q**2-p[k]**2)\n",
    "    elif(k==N):\n",
    "        for m in range(N):\n",
    "               A+=2*mu*V_ik*q**2*w[m]/(q**2-p[m]**2)\n",
    "               \n",
    "        return(kronekar(i,k)+A-mu*q*V_ik*np.log(p_max+q/(p_max-q))+1j*np.pi*mu*q*V_ik)       \n",
    "        "
   ]
  },
  {
   "cell_type": "code",
   "execution_count": 6,
   "metadata": {},
   "outputs": [
    {
     "name": "stdout",
     "output_type": "stream",
     "text": [
      "<bound method OBEpot.v of <__main__.OBEpot object at 0x000002617EE65EE0>>\n"
     ]
    }
   ],
   "source": [
    "pot=OBEpot(nx=24,mpi=138.0)\n",
    "print(pot.v)"
   ]
  },
  {
   "cell_type": "code",
   "execution_count": 7,
   "metadata": {},
   "outputs": [],
   "source": [
    "N=30\n",
    "A=np.zeros((N+1,N+1),dtype='complex')\n",
    "V=np.zeros((N+1,N+1))\n",
    "p_grid,w=trns(20,10,1.0,5.0,35.0)\n",
    "q=1\n",
    "p_grid=np.concatenate((p_grid,[q]),axis=None)\n",
    "for i in range(N+1):\n",
    "          for j in range(N+1): \n",
    "            V[i][j]=pot.v(p_grid[i],p_grid[j],0)\n",
    "\n",
    "\n",
    "for i in range(0,len(p_grid)):\n",
    "    for k in range(0,len(p_grid)):\n",
    "        A[i][k]=matA(i,k,V[i][k],q,p_grid,w,20)\n",
    "        \n",
    "        \n"
   ]
  },
  {
   "cell_type": "code",
   "execution_count": 8,
   "metadata": {},
   "outputs": [
    {
     "name": "stdout",
     "output_type": "stream",
     "text": [
      "(-0.0001666372635606081-0.0001384414671008402j)\n"
     ]
    }
   ],
   "source": [
    "t=np.linalg.inv(A)@V\n",
    "print(t[N][N])"
   ]
  },
  {
   "cell_type": "code",
   "execution_count": 9,
   "metadata": {},
   "outputs": [
    {
     "name": "stdout",
     "output_type": "stream",
     "text": [
      "1.0000000000000278\n"
     ]
    }
   ],
   "source": [
    "S=1-2j*np.pi*938.92*q*t[N][N]\n",
    "print(np.linalg.norm(S))"
   ]
  },
  {
   "cell_type": "markdown",
   "metadata": {},
   "source": [
    "Since S is coming out to be one which is required"
   ]
  },
  {
   "cell_type": "code",
   "execution_count": 10,
   "metadata": {},
   "outputs": [],
   "source": [
    "N_grid=np.linspace(10,40,7).astype(int)\n",
    "Pmax_grid=np.linspace(10,30,11)"
   ]
  },
  {
   "cell_type": "code",
   "execution_count": 18,
   "metadata": {},
   "outputs": [],
   "source": [
    "stab_mat=np.zeros((len(N_grid),len(Pmax_grid)))\n",
    "for n in range(len(N_grid)):\n",
    "    for m in range(len(Pmax_grid)):\n",
    "        N=N_grid[n]\n",
    "        A=np.zeros((N_grid[n]+1,N_grid[n]+1),dtype='complex')\n",
    "        V=np.zeros((N_grid[n]+1,N_grid[n]+1))\n",
    "        \n",
    "        p_grid,w=trns(int(np.ceil(2*N_grid[n]/3)),int(N_grid[n]/3),1.0,5.0,Pmax_grid[m])\n",
    "        q=np.sqrt(2*938.92*1)  ## we have fixed a q accordind to the conndition E=1Mev\n",
    "        \n",
    "        p_grid=np.concatenate((p_grid,[q]),axis=None)\n",
    "        for i in range(N_grid[n]+1):\n",
    "            for j in range(N_grid[n]+1):\n",
    "                V[i][j]=pot.v(p_grid[i],p_grid[j],0)\n",
    "\n",
    "\n",
    "        for i in range(0,len(p_grid)):\n",
    "            for k in range(0,len(p_grid)):\n",
    "                A[i][k]=matA(i,k,V[i][k],q,p_grid,w,Pmax_grid[m])\n",
    "        t=np.linalg.inv(A)@V\n",
    "        S=1-2j*np.pi*938.92*q*t[N_grid[n]][N_grid[n]]\n",
    "        stab_mat[n][m]=np.linalg.norm(S)\n",
    "        \n",
    "    "
   ]
  },
  {
   "cell_type": "code",
   "execution_count": null,
   "metadata": {},
   "outputs": [],
   "source": []
  },
  {
   "cell_type": "code",
   "execution_count": 19,
   "metadata": {},
   "outputs": [
    {
     "name": "stdout",
     "output_type": "stream",
     "text": [
      "[2.39138702e-03 1.26430129e-02 3.12627706e-02 5.85613641e-02\n",
      " 9.49922319e-02 1.41165742e-01 1.97863884e-01 2.66057921e-01\n",
      " 3.46928718e-01 4.41888693e-01 5.52603294e-01 6.81008221e-01\n",
      " 8.29315851e-01 1.00000000e+00 1.19574165e+00 1.41930883e+00\n",
      " 1.67333139e+00 1.95991649e+00 2.28003864e+00 2.63263884e+00\n",
      " 3.01340441e+00 3.41330785e+00 3.81719590e+00 4.20303266e+00\n",
      " 4.54268635e+00 4.80510401e+00 4.96201035e+00 5.19771182e+00\n",
      " 6.03002001e+00 7.48027387e+00 9.47063326e+00 1.18938406e+01\n",
      " 1.46192711e+01 1.75000000e+01 2.03807289e+01 2.31061594e+01\n",
      " 2.55293667e+01 2.75197261e+01 2.89699800e+01 2.98022882e+01\n",
      " 2.00000000e+00]\n"
     ]
    }
   ],
   "source": [
    "print(p_grid)"
   ]
  },
  {
   "cell_type": "code",
   "execution_count": 13,
   "metadata": {},
   "outputs": [],
   "source": [
    "### pmax --> infty\n",
    "def matA1 (i,k,V_ik,q,p,w,p_max,mu=938.92):\n",
    "    A=0\n",
    "    if (k!=N):\n",
    "        return kronekar(i,k)-2*mu*V_ik*(p[k]**2)*w[k]/(q**2-p[k]**2)\n",
    "    elif(k==N):\n",
    "        for m in range(N):\n",
    "               A+=2*mu*V_ik*q**2*w[m]/(q**2-p[m]**2)\n",
    "               \n",
    "        return(kronekar(i,k)+A+1j*np.pi*mu*q*V_ik)  "
   ]
  },
  {
   "cell_type": "code",
   "execution_count": 14,
   "metadata": {},
   "outputs": [],
   "source": [
    "N=30\n",
    "A=np.zeros((N+1,N+1),dtype='complex')\n",
    "A1=np.zeros((N+1,N+1),dtype='complex')\n",
    "V=np.zeros((N+1,N+1))\n",
    "pmax_grid=np.linspace(20,500,25)\n",
    "pinf=np.zeros(len(pmax_grid))\n",
    "pfinite=np.zeros(len(pmax_grid))\n",
    "for m in range(len(pmax_grid)):\n",
    "    p_grid,w=trns(20,10,1.0,5.0,pmax_grid[m])\n",
    "    q=10\n",
    "    p_grid=np.concatenate((p_grid,[q]),axis=None)\n",
    "    for i in range(N+1):\n",
    "        for j in range(N+1): \n",
    "            V[i][j]=pot.v(p_grid[i],p_grid[j],0)   ## l=0\n",
    "\n",
    "\n",
    "    for i in range(0,len(p_grid)):\n",
    "        for k in range(0,len(p_grid)):\n",
    "            A[i][k]=matA(i,k,V[i][k],q,p_grid,w,pmax_grid[m])\n",
    "            A1[i][k]=matA1(i,k,V[i][k],q,p_grid,w,pmax_grid[m])\n",
    "\n",
    "    t=np.linalg.inv(A)@V\n",
    "    t1=np.linalg.inv(A1)@V\n",
    "    S1=1-2j*np.pi*938.92*q*t1[N][N]                  \n",
    "    S=1-2j*np.pi*938.92*q*t[N][N]\n",
    "    pinf[m]=1.-np.linalg.norm(S1)\n",
    "    pfinite[m]=1.-np.linalg.norm(S)                  \n",
    "\n"
   ]
  },
  {
   "cell_type": "code",
   "execution_count": 21,
   "metadata": {},
   "outputs": [
    {
     "data": {
      "text/plain": [
       "<matplotlib.legend.Legend at 0x2610043b250>"
      ]
     },
     "execution_count": 21,
     "metadata": {},
     "output_type": "execute_result"
    },
    {
     "data": {
      "image/png": "[encoded data removed]",
      "text/plain": [
       "<Figure size 432x288 with 1 Axes>"
      ]
     },
     "metadata": {
      "needs_background": "light"
     },
     "output_type": "display_data"
    }
   ],
   "source": [
    "plt.xlabel('Momentum Grid for pmax')\n",
    "plt.ylabel('Error in S')\n",
    "plt.plot(pmax_grid,pinf,label = 'pmax --> $\\infty$')\n",
    "plt.plot(pmax_grid,pfinite)\n",
    "plt.legend()"
   ]
  },
  {
   "cell_type": "markdown",
   "metadata": {},
   "source": [
    "we expect the difference between the two plots to reduce as we increase pmax which we observe in our plot. Also the initial value S for the A matrix where  pmax tend to $\\infty$ is less than the the value of S where Pmax doesn't tend to $\\infty$ as expected. as for the trend that we observe we couldn't make much sense of it"
   ]
  },
  {
   "cell_type": "code",
   "execution_count": 28,
   "metadata": {},
   "outputs": [],
   "source": [
    "## Plotting the phase shift\n",
    "Earr = np.linspace(0,200,100) #MeV\n",
    "qarr = np.sqrt(2*938.92*Earr)\n",
    "dlist = np.zeros(len(Earr))#dtype='complex')\n",
    "\n",
    "N=30\n",
    "for m in range(len(Earr)):\n",
    "    A=np.zeros((N+1,N+1),dtype='complex')\n",
    "    V=np.zeros((N+1,N+1))\n",
    "    p_grid,w=trns(20,10,1.0,5.0,35.0)\n",
    "\n",
    "\n",
    "    p_grid=np.concatenate((p_grid,[qarr[m]]),axis=None)\n",
    "    for i in range(N+1):\n",
    "              for j in range(N+1): \n",
    "                V[i][j]=pot.v(p_grid[i],p_grid[j],0)\n",
    "\n",
    "\n",
    "    for i in range(0,len(p_grid)):\n",
    "        for k in range(0,len(p_grid)):\n",
    "            A[i][k]=matA(i,k,V[i][k],qarr[m],p_grid,w,20)\n",
    "\n",
    "    t=np.linalg.inv(A)@V\n",
    "    S=1-2j*np.pi*938.92*qarr[m]*t[N][N]\n",
    "    delta = 0.5*np.arctan2(np.imag(S),np.real(S))\n",
    "    dlist[m] = delta\n"
   ]
  },
  {
   "cell_type": "code",
   "execution_count": 30,
   "metadata": {},
   "outputs": [
    {
     "data": {
      "text/plain": [
       "Text(0, 0.5, '$\\\\delta (E)$')"
      ]
     },
     "execution_count": 30,
     "metadata": {},
     "output_type": "execute_result"
    },
    {
     "data": {
      "image/png": "[encoded data removed]",
      "text/plain": [
       "<Figure size 432x288 with 1 Axes>"
      ]
     },
     "metadata": {
      "needs_background": "light"
     },
     "output_type": "display_data"
    }
   ],
   "source": [
    "plt.plot(Earr,dlist)\n",
    "plt.xlabel('Energy(E)')\n",
    "plt.ylabel('$\\delta (E)$')"
   ]
  },
  {
   "cell_type": "code",
   "execution_count": 36,
   "metadata": {},
   "outputs": [],
   "source": [
    "from scipy.special import eval_legendre\n",
    "\n",
    "q1 = np.sqrt(2*938.92*10)\n",
    "tarr = np.zeros((7),dtype = 'complex')\n",
    "\n",
    "for m in range(7):\n",
    "    A=np.zeros((N+1,N+1),dtype='complex')\n",
    "    V=np.zeros((N+1,N+1))\n",
    "    p_grid,w=trns(20,10,1.0,5.0,35.0)\n",
    "\n",
    "\n",
    "    p_grid=np.concatenate((p_grid,[q1]),axis=None)\n",
    "    for i in range(N+1):\n",
    "        for j in range(N+1): \n",
    "            V[i][j]=pot.v(p_grid[i],p_grid[j],m)\n",
    "\n",
    "\n",
    "    for i in range(0,len(p_grid)):\n",
    "        for k in range(0,len(p_grid)):\n",
    "            A[i][k]=matA(i,k,V[i][k],q1,p_grid,w,20)\n",
    "\n",
    "    t=np.linalg.inv(A)@V\n",
    "    tarr[m] = t[N][N]\n",
    "\n",
    "sumlist = []\n",
    "carr = np.linspace(-1,1,20)\n",
    "for n in range(7):\n",
    "    sum = np.zeros(len(carr))\n",
    "    for l in range(n):\n",
    "        for l_ in range(n):\n",
    "            \n",
    "            sum += np.real((2*l+1)*(2*l_+1)*tarr[l]*np.conjugate(tarr[l_])*eval_legendre(l,carr)*eval_legendre(l_,carr))\n",
    "    sumlist.append(sum)\n",
    "            \n"
   ]
  },
  {
   "cell_type": "code",
   "execution_count": 44,
   "metadata": {},
   "outputs": [
    {
     "data": {
      "text/plain": [
       "Text(0, 0.5, 'd$\\\\sigma$/d(cos($\\\\theta$))')"
      ]
     },
     "execution_count": 44,
     "metadata": {},
     "output_type": "execute_result"
    },
    {
     "data": {
      "image/png": "[encoded data removed]",
      "text/plain": [
       "<Figure size 432x288 with 1 Axes>"
      ]
     },
     "metadata": {
      "needs_background": "light"
     },
     "output_type": "display_data"
    }
   ],
   "source": [
    "\n",
    "for i in range(7):\n",
    "    \n",
    "    plt.semilogy(carr,sumlist[i])\n",
    "    \n",
    "plt.xlabel(r'cos($\\theta$)')\n",
    "plt.ylabel(r'd$\\sigma$/d(cos($\\theta$))')"
   ]
  },
  {
   "cell_type": "code",
   "execution_count": null,
   "metadata": {},
   "outputs": [],
   "source": []
  },
  {
   "cell_type": "code",
   "execution_count": null,
   "metadata": {},
   "outputs": [],
   "source": []
  }
 ],
 "metadata": {
  "kernelspec": {
   "display_name": "Python 3",
   "language": "python",
   "name": "python3"
  },
  "language_info": {
   "codemirror_mode": {
    "name": "ipython",
    "version": 3
   },
   "file_extension": ".py",
   "mimetype": "text/x-python",
   "name": "python",
   "nbconvert_exporter": "python",
   "pygments_lexer": "ipython3",
   "version": "3.7.4"
  }
 },
 "nbformat": 4,
 "nbformat_minor": 4
}
