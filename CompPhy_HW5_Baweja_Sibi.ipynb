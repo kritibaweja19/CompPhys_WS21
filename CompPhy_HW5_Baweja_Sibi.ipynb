{
 "cells": [
  {
   "cell_type": "markdown",
   "metadata": {},
   "source": [
    "## Computational Homework Sheet 5"
   ]
  },
  {
   "cell_type": "markdown",
   "metadata": {},
   "source": [
    "We have tried our best to make sense of the algorithm. Sorry if this is inconvenient for you to go through the code. <br>\n",
    "-Aleena, Kriti"
   ]
  },
  {
   "cell_type": "code",
   "execution_count": 1,
   "metadata": {},
   "outputs": [],
   "source": [
    "import numpy as np\n",
    "import matplotlib.pyplot as plt\n",
    "from tqdm import tqdm"
   ]
  },
  {
   "cell_type": "code",
   "execution_count": 2,
   "metadata": {},
   "outputs": [],
   "source": [
    "def Ham(u,a,N):\n",
    "    H = 0\n",
    "    for i in range(N):\n",
    "        H += (u[i] - u[i-1])**2\n",
    "    \n",
    "    return H/a\n",
    "    \n",
    "def hastings(u,x,phi,nlevel): \n",
    "    \n",
    "    Ei= Ha(u,phi,nlevel)\n",
    "    r = np.random.uniform(-1,1)\n",
    "    u[x] = u[x] + delta*r\n",
    "    Ef=Ha(u,phi,nlevel)\n",
    "    dE=Ef-Ei\n",
    "    if (dE < 0 or np.random.uniform(0,1) < np.exp(-dE)):\n",
    "        u[x]=u[x]\n",
    "       \n",
    "        \n",
    "    else:\n",
    "        u[x]-=r*delta\n",
    "      \n",
    "    return u\n",
    "\n",
    "\n",
    "def H2a(ucor1,phi,nlevel): #computes hamiltonian of the lattice at a particular level, a=1\n",
    "    n2 = int(len(ucor1))\n",
    "    he = 0\n",
    "    hi = 0\n",
    "    phia = np.zeros(n2)\n",
    "    \n",
    "    for i in range(n2): ##phi(2a)\n",
    "        phi_n = 0.5*(phi[2*i] + 0.5*phi[2*i-1] + 0.5*phi[2*i+1])\n",
    "        phia[i] = phi_n\n",
    "        he += nlevel*phi_n*ucor1[i]\n",
    "        hi += ((ucor1[i]-ucor1[i-1])**2)/nlevel\n",
    "        \n",
    "    Ham = he+hi\n",
    "    return Ham,phia\n",
    "        \n",
    "    \n",
    "def Ha(u,phi,nlevel):\n",
    "    H = 0\n",
    "    N = len(u)\n",
    "    for i in range(N):\n",
    "        H += ((u[i] - u[i-1])**2)/nlevel  + nlevel*phi[i]*u[i]\n",
    "        \n",
    "    return H\n",
    "\n",
    "def autocor(marr):\n",
    "    \n",
    "    gamma = np.zeros(50)\n",
    "    mavg = np.mean(marr)\n",
    "    for tau in tqdm(range(50)):\n",
    "        count = 0\n",
    "        for k in range(len(marr)):\n",
    "        \n",
    "            for l in range(len(marr)):\n",
    "                \n",
    "                if(abs(k-l) == tau):          \n",
    "                    count+=1\n",
    "                    gamma[tau] += (marr[k] - mavg)*(marr[l] - mavg)\n",
    "\n",
    "        gamma[tau] *= 1/count\n",
    "    \n",
    "    Ctau = gamma/gamma[0]\n",
    "    return Ctau"
   ]
  },
  {
   "cell_type": "code",
   "execution_count": 3,
   "metadata": {},
   "outputs": [],
   "source": [
    "a =1.\n",
    "N = 64\n",
    "delta = 2.\n",
    "Marr = []\n",
    "\n",
    "u = np.zeros(N)\n",
    "u[0],u[N-1] = 0,0\n",
    "#def hastings(u,x,phi,nlevel,N):\n",
    "phi = np.zeros(N)\n",
    "\n",
    "for i in range(N-1):  \n",
    "    x = np.random.randint(1,N-2)\n",
    "    Ei = Ha(u,phi,1)\n",
    "    r = np.random.uniform(-1,1)\n",
    "    u[x] += delta*r\n",
    "    Ef = Ha(u,phi,1)\n",
    "    dE=Ef-Ei\n",
    "    if (dE < 0 or np.random.uniform(0,1) < np.exp(-dE)):\n",
    "        u[x]=u[x]\n",
    "       \n",
    "        \n",
    "    else:\n",
    "        u[x]-=r*delta\n",
    "        \n",
    "    Marr.append(np.sum(u)/N)\n",
    "    \n",
    "   \n"
   ]
  },
  {
   "cell_type": "code",
   "execution_count": 4,
   "metadata": {},
   "outputs": [
    {
     "data": {
      "text/plain": [
       "[<matplotlib.lines.Line2D at 0x1e4bc7553d0>]"
      ]
     },
     "execution_count": 4,
     "metadata": {},
     "output_type": "execute_result"
    },
    {
     "data": {
      "image/png": "[encoded data removed]",
      "text/plain": [
       "<Figure size 432x288 with 1 Axes>"
      ]
     },
     "metadata": {
      "needs_background": "light"
     },
     "output_type": "display_data"
    }
   ],
   "source": [
    "plt.plot(Marr)"
   ]
  },
  {
   "cell_type": "markdown",
   "metadata": {},
   "source": [
    "## V Cycle"
   ]
  },
  {
   "cell_type": "code",
   "execution_count": 5,
   "metadata": {},
   "outputs": [],
   "source": [
    "N = 64\n",
    "vpre = int(N/2)\n",
    "vpost = int(N/2)\n",
    "\n",
    "delta = 2.\n",
    "Marr = []\n",
    "\n",
    "\n",
    "    \n",
    "\n",
    " #   def Ha(u,phi,nlevel,N)\n",
    "    \n",
    "u = np.zeros(N)\n",
    "u[0],u[N-1] = 0,0\n",
    "phia = np.zeros(N)\n",
    "\n",
    "## Pre-coarsening Steps\n",
    "\n",
    "for j in range(vpre):\n",
    "    for i in range(N-1):  \n",
    "        x = np.random.randint(1,N-2)\n",
    "        Ei = Ha(u,phi,1)\n",
    "        r = np.random.uniform(-1,1)\n",
    "        u[x] += delta*r\n",
    "        Ef = Ha(u,phi,1)\n",
    "        dE=Ef-Ei\n",
    "        if (dE < 0 or np.random.uniform(0,1) < np.exp(-dE)):\n",
    "            u[x]=u[x]\n",
    "\n",
    "\n",
    "        else:\n",
    "            u[x]-=r*delta\n",
    "   \n"
   ]
  },
  {
   "cell_type": "code",
   "execution_count": 6,
   "metadata": {},
   "outputs": [],
   "source": [
    "ucor=np.zeros(int(N/2))\n",
    "ucor1=np.zeros(int(N/4))\n",
    "ucor2=np.zeros(int(N/8))\n",
    "\n",
    "for i in range(int(N/2)):\n",
    "    ucor[i]=u[2*i]\n",
    "H_2a,phi2a = H2a(ucor,phia,2)\n",
    "\n",
    "\n",
    "for i in range(int(N/4)):\n",
    "    ucor1[i]=u[4*i]\n",
    "H_4a,phi4a = H2a(ucor1,phi2a,4)\n",
    "\n",
    "\n",
    "for i in range(int(N/8)):\n",
    "    ucor2[i]=u[8*i]\n",
    "H_8a,phi8a = H2a(ucor2,phi4a,8)\n",
    "\n",
    "\n",
    "Mcor =[]   \n",
    "\n",
    "#Metropolis step after coarsening 3 times\n",
    "\n",
    "#def hastings(u,x,phi,nlevel,N):\n",
    "nl = int(N/8)\n",
    "for j in range(vpost):\n",
    "    for i in range(nl-1):\n",
    "        x = np.random.randint(1,nl-2)\n",
    "        ucor2 = hastings(ucor2,x,phi8a,8)\n",
    "        Mcor.append(np.sum(ucor2)/nl)\n",
    "        \n"
   ]
  },
  {
   "cell_type": "code",
   "execution_count": 7,
   "metadata": {},
   "outputs": [],
   "source": [
    "## coarse to fine --> 3 levels\n",
    "ufine=np.zeros(N)\n",
    "ufine1=np.zeros(int(N/2))\n",
    "ufine2=np.zeros(int(N/4))\n",
    "\n",
    "#Prolongation for third level\n",
    "for i in range(int(N/4)-1):\n",
    "    if(i%2==0):\n",
    "        ufine2[i]=ucor2[int(i/2)]\n",
    "    else:\n",
    "        ip = int((i+1)/2)\n",
    "        im = int((i-1)/2)\n",
    "        \n",
    "        ufine2[i]=(ucor2[im]+ucor2[ip])/2\n",
    "\n",
    "#Interpolation for second level\n",
    "for i in range(int(N/2)-1):\n",
    "    if(i%2==0):\n",
    "        ufine1[i]=ufine2[int(i/2)]\n",
    "    else:\n",
    "        ip = int((i+1)/2)\n",
    "        im = int((i-1)/2)\n",
    "        ufine1[i]=(ufine2[im]+ufine2[ip])/2     \n",
    "\n",
    "        \n",
    "#Prolongation for first level\n",
    "for i in range(N-1):\n",
    "    if(i%2==0):\n",
    "        ufine[i]=ufine1[int(i/2)]\n",
    "    else:\n",
    "        ip = int((i+1)/2)\n",
    "        im = int((i-1)/2)\n",
    "        ufine[i]=(ufine1[im]+ufine1[ip])/2\n",
    "        \n",
    "Mfinal=[] \n",
    "\n",
    "for i in range(N-1):\n",
    "    \n",
    "    #Ei = Ha(ufine,x,1)\n",
    "    x = np.random.randint(1,N-2)\n",
    "    ufine = hastings(ufine,x,phi,1)\n",
    "    Mfinal.append((np.sum(ufine))**2/N**2)\n",
    "        \n"
   ]
  },
  {
   "cell_type": "code",
   "execution_count": 8,
   "metadata": {},
   "outputs": [
    {
     "name": "stderr",
     "output_type": "stream",
     "text": [
      "100%|█████████████████████████████████████████████████████████████████████████████████| 50/50 [00:00<00:00, 724.50it/s]\n"
     ]
    }
   ],
   "source": [
    "corr1 = autocor(Mfinal)"
   ]
  },
  {
   "cell_type": "code",
   "execution_count": 9,
   "metadata": {},
   "outputs": [
    {
     "data": {
      "text/plain": [
       "[<matplotlib.lines.Line2D at 0x1e4bc882e20>]"
      ]
     },
     "execution_count": 9,
     "metadata": {},
     "output_type": "execute_result"
    },
    {
     "data": {
      "image/png": "[encoded data removed]",
      "text/plain": [
       "<Figure size 432x288 with 1 Axes>"
      ]
     },
     "metadata": {
      "needs_background": "light"
     },
     "output_type": "display_data"
    }
   ],
   "source": [
    "plt.title('Autocorrelation function of $m^2$')\n",
    "plt.xlabel('tau')\n",
    "plt.ylabel('$m^2$')\n",
    "plt.plot((corr1),'.')\n"
   ]
  },
  {
   "cell_type": "markdown",
   "metadata": {},
   "source": [
    "## W Cycle"
   ]
  },
  {
   "cell_type": "code",
   "execution_count": 10,
   "metadata": {},
   "outputs": [],
   "source": [
    "N = 64\n",
    "vpre = int(N/2)\n",
    "vpost = int(N/2)\n",
    "\n",
    "delta = 2.\n",
    "Marr = []\n",
    "\n",
    "\n",
    "    \n",
    "\n",
    " #   def Ha(u,phi,nlevel,N)\n",
    "    \n",
    "u = np.zeros(N)\n",
    "u[0],u[N-1] = 0,0\n",
    "phia = np.zeros(N)\n",
    "\n",
    "## Pre-coarsening Steps\n",
    "\n",
    "for j in range(vpre):\n",
    "    for i in range(N-1):  \n",
    "        x = np.random.randint(1,N-2)\n",
    "        Ei = Ha(u,phi,1)\n",
    "        r = np.random.uniform(-1,1)\n",
    "        u[x] += delta*r\n",
    "        Ef = Ha(u,phi,1)\n",
    "        dE=Ef-Ei\n",
    "        if (dE < 0 or np.random.uniform(0,1) < np.exp(-dE)):\n",
    "            u[x]=u[x]\n",
    "\n",
    "\n",
    "        else:\n",
    "            u[x]-=r*delta\n",
    "   \n"
   ]
  },
  {
   "cell_type": "code",
   "execution_count": 11,
   "metadata": {},
   "outputs": [],
   "source": [
    "ucor=np.zeros(int(N/2))\n",
    "ucor1=np.zeros(int(N/4))\n",
    "ucor2=np.zeros(int(N/8))\n",
    "\n",
    "for i in range(int(N/2)):\n",
    "    ucor[i]=u[2*i]\n",
    "H_2a,phi2a = H2a(ucor,phia,2)\n",
    "\n",
    "\n",
    "for i in range(int(N/4)):\n",
    "    ucor1[i]=u[4*i]\n",
    "H_4a,phi4a = H2a(ucor1,phi2a,4)\n",
    "\n",
    "\n",
    "for i in range(int(N/8)):\n",
    "    ucor2[i]=u[8*i]\n",
    "H_8a,phi8a = H2a(ucor2,phi4a,8)\n",
    " \n",
    "\n",
    "#Metropolis step after coarsening 3 times\n",
    "\n",
    "#def hastings(u,x,phi,nlevel,N):\n",
    "nl = int(N/8)\n",
    "for j in range(vpost):\n",
    "    for i in range(nl-1):\n",
    "        x = np.random.randint(1,nl-2)\n",
    "        ucor2 = hastings(ucor2,x,phi8a,8)\n",
    "\n",
    "\n",
    " \n",
    "## Uncoarsen it \n",
    "ufine2=np.zeros(int(N/4))\n",
    "\n",
    "#Prolongation for third level\n",
    "for i in range(int(N/4)-1):\n",
    "    if(i%2==0):\n",
    "        ufine2[i]=ucor2[int(i/2)]\n",
    "    else:\n",
    "        ip = int((i+1)/2)\n",
    "        im = int((i-1)/2)\n",
    "        \n",
    "        ufine2[i]=(ucor2[im]+ucor2[ip])/2\n",
    "\n",
    "        \n",
    "for j in range(vpost):\n",
    "    for i in range(nl-1):\n",
    "        x = np.random.randint(1,nl-2)\n",
    "        ucor2 = hastings(ucor2,x,phi8a,8)\n",
    "\n",
    "        \n",
    "#Coarsen it again\n",
    "for i in range(int(N/8)):\n",
    "    ucor2[i] = ufine2[2*i]\n",
    "H_8a,phi8a = H2a(ucor2,phi4a,8)\n",
    "\n",
    "\n",
    "nl = int(N/8)\n",
    "for j in range(vpost):\n",
    "    for i in range(nl-1):\n",
    "        x = np.random.randint(1,nl-2)\n",
    "        ucor2 = hastings(ucor2,x,phi8a,8)\n",
    "        Mcor.append(np.sum(ucor2)/nl)\n",
    "        \n",
    "        \n",
    "## coarse to fine --> 3 levels\n",
    "ufine=np.zeros(N)\n",
    "ufine1=np.zeros(int(N/2))\n",
    "ufine2=np.zeros(int(N/4))\n",
    "\n",
    "#Prolongation for third level\n",
    "for i in range(int(N/4)-1):\n",
    "    if(i%2==0):\n",
    "        ufine2[i]=ucor2[int(i/2)]\n",
    "    else:\n",
    "        ip = int((i+1)/2)\n",
    "        im = int((i-1)/2)\n",
    "        \n",
    "        ufine2[i]=(ucor2[im]+ucor2[ip])/2\n",
    "\n",
    "#Prolongation for second level\n",
    "for i in range(int(N/2)-1):\n",
    "    if(i%2==0):\n",
    "        ufine1[i]=ufine2[int(i/2)]\n",
    "    else:\n",
    "        ip = int((i+1)/2)\n",
    "        im = int((i-1)/2)\n",
    "        ufine1[i]=(ufine2[im]+ufine2[ip])/2     \n",
    "\n",
    "        \n",
    "#Prolongation for first level\n",
    "for i in range(N-1):\n",
    "    if(i%2==0):\n",
    "        ufine[i]=ufine1[int(i/2)]\n",
    "    else:\n",
    "        ip = int((i+1)/2)\n",
    "        im = int((i-1)/2)\n",
    "        ufine[i]=(ufine1[im]+ufine1[ip])/2\n",
    "        \n",
    "MfinalW=[] \n",
    "\n",
    "for i in range(N-1):\n",
    "    \n",
    "    #Ei = Ha(ufine,x,1)\n",
    "    x = np.random.randint(1,N-2)\n",
    "    ufine = hastings(ufine,x,phi,1)\n",
    "    MfinalW.append((np.sum(ufine))**2/N**2)        \n",
    "                \n",
    "\n",
    "\n",
    "\n"
   ]
  },
  {
   "cell_type": "code",
   "execution_count": 12,
   "metadata": {},
   "outputs": [
    {
     "name": "stderr",
     "output_type": "stream",
     "text": [
      "100%|█████████████████████████████████████████████████████████████████████████████████| 50/50 [00:00<00:00, 833.10it/s]\n"
     ]
    },
    {
     "data": {
      "text/plain": [
       "[<matplotlib.lines.Line2D at 0x1e4bc95b8b0>]"
      ]
     },
     "execution_count": 12,
     "metadata": {},
     "output_type": "execute_result"
    },
    {
     "data": {
      "image/png": "[encoded data removed]",
      "text/plain": [
       "<Figure size 432x288 with 1 Axes>"
      ]
     },
     "metadata": {
      "needs_background": "light"
     },
     "output_type": "display_data"
    }
   ],
   "source": [
    "corr = autocor(MfinalW)\n",
    "plt.title('Autocorrelation function of $m^2$')\n",
    "plt.xlabel('tau')\n",
    "plt.ylabel('$m^2$')\n",
    "plt.plot((corr),'.')\n"
   ]
  }
 ],
 "metadata": {
  "kernelspec": {
   "display_name": "Python 3",
   "language": "python",
   "name": "python3"
  },
  "language_info": {
   "codemirror_mode": {
    "name": "ipython",
    "version": 3
   },
   "file_extension": ".py",
   "mimetype": "text/x-python",
   "name": "python",
   "nbconvert_exporter": "python",
   "pygments_lexer": "ipython3",
   "version": "3.7.4"
  }
 },
 "nbformat": 4,
 "nbformat_minor": 4
}
