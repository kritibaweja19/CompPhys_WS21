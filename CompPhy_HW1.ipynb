{
 "cells": [
  {
   "cell_type": "markdown",
   "metadata": {},
   "source": [
    "## Simulating the Ising Model - CompPhys Homework 1\n",
    "-Aleena Sibi(s6alsibi) and Kriti Baweja(s6krbawe)"
   ]
  },
  {
   "cell_type": "markdown",
   "metadata": {},
   "source": [
    "### Questions\n",
    "<b>Que-1)</b> Discuss the Physical meaning of J, in particular the sign of J and the role it plays in magnets? <br>\n",
    "<b>Ans-1)</b> J in the expression represents the interaction strength(coupling) between two spins. The sign of J will determine the kind of interaction between the spins i.e. if its is attractive or repulsive, if J is positive the spins will tend to align with each other and if J is negative the spins tend align antiparallel to each other because it is energetically favourable. <br>\n",
    "This is also seen in the case of magnets where the potential energy of the (classical) magnetic dipoles is given by -<b>m.B</b> where <b>m</b> is the magnetic dipole moment and <b>B</b> is the external magnetic field. The (classical) dipole magnets have the lowest energy when they are parallel to<b> B</b> and that is when its potential energy is the minimum and vice versa. <br> J>0 is analogus to classical magnets as the spins tend to align with each other."
   ]
  },
  {
   "cell_type": "markdown",
   "metadata": {},
   "source": [
    "<b>Que-2)</b> Clarify what it means to have periodic boundary conditions?<br>\n",
    "<b>Ans-2)</b> Periodic boundary conditions in one dimension essentially means that the first spin is interacting with the last spin i.e. our lattice is circular or a ring. There are no end points."
   ]
  },
  {
   "cell_type": "markdown",
   "metadata": {},
   "source": [
    "<b> Que-3) </b> what are the relevant dimensionless ratio in the problem?<br>\n",
    "<b> Ans-3) </b> The Relevant dimensionless ratios are: <br>\n",
    "i) J/T <br>\n",
    "ii)  h/T <br>\n"
   ]
  },
  {
   "cell_type": "code",
   "execution_count": 47,
   "metadata": {},
   "outputs": [],
   "source": [
    "import numpy as np\n",
    "import random as r\n",
    "import matplotlib.pyplot as plt\n",
    "from tqdm import tqdm"
   ]
  },
  {
   "cell_type": "markdown",
   "metadata": {},
   "source": [
    "$$ H(s) = −J\\sum_{\\langle x,y \\rangle} s_xs_y - h\\sum_x s_x$$\n",
    "\n",
    "### Role of J\n",
    "<list>\n",
    "    <li> Strength of coupling between the spins </li>\n",
    "    <li> The sign of J decides the kind of interaction between the spins </li>\n",
    "        <li> There are also systems where J depends on the spin pair we select??? </li>\n",
    "    <li> Choosing J = 1 implies what? => When spins are aligned, the energy is negative (attractive??) and when not aligned, it's positive (repulsive???). </li>\n",
    "</list>\n",
    "\n",
    "### Role of h\n",
    "<list>\n",
    "    <li> Measure of the external magnetic(?) field applied </li>\n",
    "   <li> Trying to see with differetn values of h. <\\li>\n",
    "       <li> h ∈ [−1, 1] </li>"
   ]
  },
  {
   "cell_type": "code",
   "execution_count": 86,
   "metadata": {},
   "outputs": [],
   "source": [
    "N = 10\n",
    "J = 1.\n",
    "spins = [np.random.choice([-1,1]) for i in range(N)]\n",
    "spin1 = np.copy(spins)"
   ]
  },
  {
   "cell_type": "code",
   "execution_count": 87,
   "metadata": {},
   "outputs": [],
   "source": [
    "J = 1.\n",
    "T = 1.\n",
    "def hastings(h,k,spins):\n",
    "    dM = 0\n",
    "    N = np.shape(spins)[0]\n",
    "    dE = 2*J*spins[k]*spins[k-1] + 2*J*spins[k]*spins[(k+1)%N] + 2*h*spins[k]\n",
    "    if (dE < 0 or np.random.uniform(0,1) < np.exp(-dE/T)):\n",
    "        \n",
    "        dM = -2*spins[k]\n",
    "        spins[k] *= -1\n",
    "        \n",
    "        #print(dM)\n",
    "    return dM\n",
    "\n",
    "def mExactN(h,N,J=1):\n",
    "    s = np.sinh(h)\n",
    "    c = np.cosh(h)\n",
    "    expm4J = np.exp(-4*J)\n",
    "    ratio = (c-np.sqrt(s**2+expm4J))/(c+np.sqrt(s**2+expm4J))\n",
    "    answer = (1-ratio**N)/(1+ratio**N)\n",
    "    answer *= s/np.sqrt(s**2+expm4J)\n",
    "    return answer\n",
    "\n",
    "# exact answer in thermodynamic limit\n",
    "def mExact(h,J=1):\n",
    "    s = np.sinh(h)\n",
    "    c = np.cosh(h)\n",
    "    expm4J = np.exp(-4*J)\n",
    "    answer = s/np.sqrt(s**2+expm4J)\n",
    "    return answer"
   ]
  },
  {
   "cell_type": "markdown",
   "metadata": {},
   "source": [
    "### $\\langle m \\rangle$ vs h"
   ]
  },
  {
   "cell_type": "code",
   "execution_count": 88,
   "metadata": {},
   "outputs": [
    {
     "name": "stderr",
     "output_type": "stream",
     "text": [
      "100%|████████████████████████████████████████████████████████████████████████████████| 101/101 [00:20<00:00,  4.98it/s]\n"
     ]
    }
   ],
   "source": [
    "Nsim = 10000 #Number of simulations that we have to run\n",
    "harr = np.linspace(-1,1,101)\n",
    "\n",
    "Marr = []\n",
    "\n",
    "for i in tqdm(range(len(harr))):\n",
    "    spins = spin1\n",
    "    M = np.sum(spins)\n",
    "    Mp = 0\n",
    "    \n",
    "    for k in range(Nsim):\n",
    "        p = r.randint(0,N-1)\n",
    "        #print(k)\n",
    "        dm = hastings(harr[i],p,spins)\n",
    "        M = M + dm\n",
    "        \n",
    "        if( k>3000):\n",
    "            Mp += M/N\n",
    "            \n",
    "    Marr.append(Mp/7000)\n",
    "\n",
    "    \n"
   ]
  },
  {
   "cell_type": "code",
   "execution_count": 109,
   "metadata": {},
   "outputs": [
    {
     "data": {
      "text/plain": [
       "<matplotlib.legend.Legend at 0x235be91bd60>"
      ]
     },
     "execution_count": 109,
     "metadata": {},
     "output_type": "execute_result"
    },
    {
     "data": {
      "image/png": "[encoded data removed]",
      "text/plain": [
       "<Figure size 720x432 with 1 Axes>"
      ]
     },
     "metadata": {
      "needs_background": "light"
     },
     "output_type": "display_data"
    }
   ],
   "source": [
    "plt.figure(figsize=(10,6))\n",
    "plt.title(\"<m> vs N\")\n",
    "plt.xlabel(\"h\")\n",
    "plt.ylabel(\"<m>\")\n",
    "plt.plot(harr,Marr,'.',label = 'Simulation')\n",
    "plt.plot(harr,mExactN(harr,N),label = 'Theoretical Curve (N = 20)')\n",
    "plt.plot(harr,mExact(harr),'--',label = 'Theoretical Curve (N->$\\infty$)')\n",
    "plt.legend()"
   ]
  },
  {
   "cell_type": "markdown",
   "metadata": {},
   "source": [
    "The data points obtained via sampling agree very well with both the analytical curve, despite having such a small lattice size. As expected, for lower values of h (h ~ [-0.25,0.25]), the magnetization tends to 1, i.e. higher the field strength, the more likely it is for the spins to align themselves with the field."
   ]
  },
  {
   "cell_type": "markdown",
   "metadata": {},
   "source": [
    "### $\\langle m\\rangle$ vs N"
   ]
  },
  {
   "cell_type": "code",
   "execution_count": 121,
   "metadata": {},
   "outputs": [
    {
     "name": "stderr",
     "output_type": "stream",
     "text": [
      "100%|██████████████████████████████████████████████████████████████████████████████████| 19/19 [00:06<00:00,  3.00it/s]\n"
     ]
    }
   ],
   "source": [
    "Nsim = 10000 #Number of simulations that we have to run\n",
    "Narr = np.arange(1,20,1)\n",
    "\n",
    "Marr1 = []\n",
    "\n",
    "for i in tqdm(range(len(Narr))):\n",
    "    spin = [np.random.choice([-1,1]) for i in range(Narr[i])]    \n",
    "    M = np.sum(spin)\n",
    "    Mp = 0\n",
    "    \n",
    "    for k in range(Nsim):\n",
    "        p = r.randint(0,Narr[i]-1)\n",
    "        dm = hastings(1.,p,spin)\n",
    "        M = M + dm\n",
    "        \n",
    "        if( k>3000):\n",
    "            Mp += M/Narr[i]\n",
    "            \n",
    "    Marr1.append(Mp/6999)"
   ]
  },
  {
   "cell_type": "code",
   "execution_count": 122,
   "metadata": {},
   "outputs": [
    {
     "data": {
      "text/plain": [
       "[<matplotlib.lines.Line2D at 0x235bebc3760>]"
      ]
     },
     "execution_count": 122,
     "metadata": {},
     "output_type": "execute_result"
    },
    {
     "data": {
      "image/png": "[encoded data removed]",
      "text/plain": [
       "<Figure size 576x576 with 1 Axes>"
      ]
     },
     "metadata": {
      "needs_background": "light"
     },
     "output_type": "display_data"
    }
   ],
   "source": [
    "plt.figure(figsize=(8,8))\n",
    "plt.title(\"<m> vs N\")\n",
    "plt.xlabel(\"N\")\n",
    "plt.ylabel(\"<m>\")\n",
    "plt.plot(Narr,Marr1,'.')"
   ]
  },
  {
   "cell_type": "markdown",
   "metadata": {},
   "source": [
    "Here, we have chosen h = 1. (We did try to plot for other values of h, but haven't shown any of it here), As expected, since the field is very high, the spins are aligned with the field (and hence have magnetization ~ 1), As N increases, we can see the magnetization slowly decreasing.  "
   ]
  }
 ],
 "metadata": {
  "kernelspec": {
   "display_name": "Python 3",
   "language": "python",
   "name": "python3"
  },
  "language_info": {
   "codemirror_mode": {
    "name": "ipython",
    "version": 3
   },
   "file_extension": ".py",
   "mimetype": "text/x-python",
   "name": "python",
   "nbconvert_exporter": "python",
   "pygments_lexer": "ipython3",
   "version": "3.7.4"
  }
 },
 "nbformat": 4,
 "nbformat_minor": 4
}
